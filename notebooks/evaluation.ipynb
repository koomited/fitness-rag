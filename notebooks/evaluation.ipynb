{
 "cells": [
  {
   "cell_type": "code",
   "execution_count": 1,
   "metadata": {},
   "outputs": [],
   "source": [
    "import pandas as pd"
   ]
  },
  {
   "cell_type": "markdown",
   "metadata": {},
   "source": [
    "# Ingestion"
   ]
  },
  {
   "cell_type": "code",
   "execution_count": 2,
   "metadata": {},
   "outputs": [
    {
     "data": {
      "text/html": [
       "<div>\n",
       "<style scoped>\n",
       "    .dataframe tbody tr th:only-of-type {\n",
       "        vertical-align: middle;\n",
       "    }\n",
       "\n",
       "    .dataframe tbody tr th {\n",
       "        vertical-align: top;\n",
       "    }\n",
       "\n",
       "    .dataframe thead th {\n",
       "        text-align: right;\n",
       "    }\n",
       "</style>\n",
       "<table border=\"1\" class=\"dataframe\">\n",
       "  <thead>\n",
       "    <tr style=\"text-align: right;\">\n",
       "      <th></th>\n",
       "      <th>ID</th>\n",
       "      <th>exercise_name</th>\n",
       "      <th>type_of_activity</th>\n",
       "      <th>type_of_equipment</th>\n",
       "      <th>body_part</th>\n",
       "      <th>type</th>\n",
       "      <th>muscle_groups_activated</th>\n",
       "      <th>instructions</th>\n",
       "    </tr>\n",
       "  </thead>\n",
       "  <tbody>\n",
       "    <tr>\n",
       "      <th>0</th>\n",
       "      <td>0</td>\n",
       "      <td>Push-Ups</td>\n",
       "      <td>Strength</td>\n",
       "      <td>Bodyweight</td>\n",
       "      <td>Upper Body</td>\n",
       "      <td>Push</td>\n",
       "      <td>Pectorals, Triceps, Deltoids</td>\n",
       "      <td>Start in a high plank position with your hands...</td>\n",
       "    </tr>\n",
       "    <tr>\n",
       "      <th>1</th>\n",
       "      <td>1</td>\n",
       "      <td>Squats</td>\n",
       "      <td>Strength</td>\n",
       "      <td>Bodyweight</td>\n",
       "      <td>Lower Body</td>\n",
       "      <td>Push</td>\n",
       "      <td>Quadriceps, Glutes, Hamstrings</td>\n",
       "      <td>Stand with feet shoulder-width apart. Lower yo...</td>\n",
       "    </tr>\n",
       "    <tr>\n",
       "      <th>2</th>\n",
       "      <td>2</td>\n",
       "      <td>Plank</td>\n",
       "      <td>Strength/Mobility</td>\n",
       "      <td>Bodyweight</td>\n",
       "      <td>Core</td>\n",
       "      <td>Hold</td>\n",
       "      <td>Rectus Abdominis, Transverse Abdominis</td>\n",
       "      <td>Start in a forearm plank position with your el...</td>\n",
       "    </tr>\n",
       "    <tr>\n",
       "      <th>3</th>\n",
       "      <td>3</td>\n",
       "      <td>Deadlift</td>\n",
       "      <td>Strength</td>\n",
       "      <td>Barbell</td>\n",
       "      <td>Lower Body</td>\n",
       "      <td>Pull</td>\n",
       "      <td>Glutes, Hamstrings, Lower Back</td>\n",
       "      <td>Stand with feet hip-width apart, barbell in fr...</td>\n",
       "    </tr>\n",
       "    <tr>\n",
       "      <th>4</th>\n",
       "      <td>4</td>\n",
       "      <td>Bicep Curls</td>\n",
       "      <td>Strength</td>\n",
       "      <td>Dumbbells</td>\n",
       "      <td>Upper Body</td>\n",
       "      <td>Pull</td>\n",
       "      <td>Biceps, Forearms</td>\n",
       "      <td>Stand with a dumbbell in each hand, arms fully...</td>\n",
       "    </tr>\n",
       "  </tbody>\n",
       "</table>\n",
       "</div>"
      ],
      "text/plain": [
       "   ID exercise_name   type_of_activity type_of_equipment   body_part  type  \\\n",
       "0   0      Push-Ups           Strength        Bodyweight  Upper Body  Push   \n",
       "1   1        Squats           Strength        Bodyweight  Lower Body  Push   \n",
       "2   2         Plank  Strength/Mobility        Bodyweight        Core  Hold   \n",
       "3   3      Deadlift           Strength           Barbell  Lower Body  Pull   \n",
       "4   4   Bicep Curls           Strength         Dumbbells  Upper Body  Pull   \n",
       "\n",
       "                  muscle_groups_activated  \\\n",
       "0            Pectorals, Triceps, Deltoids   \n",
       "1          Quadriceps, Glutes, Hamstrings   \n",
       "2  Rectus Abdominis, Transverse Abdominis   \n",
       "3          Glutes, Hamstrings, Lower Back   \n",
       "4                        Biceps, Forearms   \n",
       "\n",
       "                                        instructions  \n",
       "0  Start in a high plank position with your hands...  \n",
       "1  Stand with feet shoulder-width apart. Lower yo...  \n",
       "2  Start in a forearm plank position with your el...  \n",
       "3  Stand with feet hip-width apart, barbell in fr...  \n",
       "4  Stand with a dumbbell in each hand, arms fully...  "
      ]
     },
     "execution_count": 2,
     "metadata": {},
     "output_type": "execute_result"
    }
   ],
   "source": [
    "df = pd.read_csv('../data/data.csv')\n",
    "df.head()"
   ]
  },
  {
   "cell_type": "code",
   "execution_count": 3,
   "metadata": {},
   "outputs": [],
   "source": [
    "import minsearch"
   ]
  },
  {
   "cell_type": "code",
   "execution_count": 4,
   "metadata": {},
   "outputs": [],
   "source": [
    "documents = df.to_dict(orient='records')"
   ]
  },
  {
   "cell_type": "code",
   "execution_count": 5,
   "metadata": {},
   "outputs": [],
   "source": [
    "index = minsearch.Index(\n",
    "    text_fields=['exercise_name', 'type_of_activity', 'type_of_equipment', 'body_part',\n",
    "       'type', 'muscle_groups_activated', 'instructions'],\n",
    "    keyword_fields=[\"ID\"]\n",
    ")\n"
   ]
  },
  {
   "cell_type": "code",
   "execution_count": 6,
   "metadata": {},
   "outputs": [
    {
     "data": {
      "text/plain": [
       "<minsearch.minsearch.Index at 0x77402215d790>"
      ]
     },
     "execution_count": 6,
     "metadata": {},
     "output_type": "execute_result"
    }
   ],
   "source": [
    "index.fit(documents)"
   ]
  },
  {
   "cell_type": "code",
   "execution_count": 7,
   "metadata": {},
   "outputs": [],
   "source": [
    "query = 'give me a workout for my legs'"
   ]
  },
  {
   "cell_type": "code",
   "execution_count": 8,
   "metadata": {},
   "outputs": [
    {
     "data": {
      "text/plain": [
       "[{'ID': 150,\n",
       "  'exercise_name': 'One-Arm Dumbbell Row',\n",
       "  'type_of_activity': 'Strength',\n",
       "  'type_of_equipment': 'Dumbbell',\n",
       "  'body_part': 'Upper Body',\n",
       "  'type': 'Pull',\n",
       "  'muscle_groups_activated': 'Latissimus Dorsi, Biceps',\n",
       "  'instructions': 'Place one knee and hand on a bench for support. Row the dumbbell towards your torso with the other hand.'},\n",
       " {'ID': 57,\n",
       "  'exercise_name': 'Single Arm Dumbbell Row',\n",
       "  'type_of_activity': 'Strength',\n",
       "  'type_of_equipment': 'Dumbbell',\n",
       "  'body_part': 'Upper Body',\n",
       "  'type': 'Pull',\n",
       "  'muscle_groups_activated': 'Latissimus Dorsi, Biceps',\n",
       "  'instructions': 'Place one knee and hand on a bench for support, row the dumbbell towards your torso with the other hand.'},\n",
       " {'ID': 14,\n",
       "  'exercise_name': 'Leg Raises',\n",
       "  'type_of_activity': 'Strength',\n",
       "  'type_of_equipment': 'Bodyweight',\n",
       "  'body_part': 'Core',\n",
       "  'type': 'Hold',\n",
       "  'muscle_groups_activated': 'Rectus Abdominis, Hip Flexors',\n",
       "  'instructions': 'Lie on your back with your legs extended. Lift your legs until they are perpendicular to the floor, then lower them back down.'},\n",
       " {'ID': 71,\n",
       "  'exercise_name': 'Windshield Wipers',\n",
       "  'type_of_activity': 'Strength',\n",
       "  'type_of_equipment': 'Bodyweight',\n",
       "  'body_part': 'Core',\n",
       "  'type': 'Hold',\n",
       "  'muscle_groups_activated': 'Obliques, Rectus Abdominis',\n",
       "  'instructions': 'Lie on your back with legs extended towards the ceiling. Rotate your legs side to side like windshield wipers.'},\n",
       " {'ID': 92,\n",
       "  'exercise_name': 'Kettlebell Snatch',\n",
       "  'type_of_activity': 'Strength',\n",
       "  'type_of_equipment': 'Kettlebell',\n",
       "  'body_part': 'Full Body',\n",
       "  'type': 'Push',\n",
       "  'muscle_groups_activated': 'Glutes, Shoulders, Triceps',\n",
       "  'instructions': 'Swing a kettlebell between your legs, then pull it overhead in one motion.'},\n",
       " {'ID': 66,\n",
       "  'exercise_name': 'Side Leg Raises',\n",
       "  'type_of_activity': 'Mobility',\n",
       "  'type_of_equipment': 'Bodyweight',\n",
       "  'body_part': 'Lower Body',\n",
       "  'type': 'Hold',\n",
       "  'muscle_groups_activated': 'Glutes, Hip Flexors',\n",
       "  'instructions': 'Lie on your side with legs straight. Lift your top leg towards the ceiling, then lower it back down.'},\n",
       " {'ID': 102,\n",
       "  'exercise_name': 'Toe Touches',\n",
       "  'type_of_activity': 'Strength',\n",
       "  'type_of_equipment': 'Bodyweight',\n",
       "  'body_part': 'Core',\n",
       "  'type': 'Hold',\n",
       "  'muscle_groups_activated': 'Rectus Abdominis, Obliques',\n",
       "  'instructions': 'Lie on your back with legs extended towards the ceiling. Reach your hands towards your toes.'},\n",
       " {'ID': 103,\n",
       "  'exercise_name': 'Machine Leg Extension',\n",
       "  'type_of_activity': 'Strength',\n",
       "  'type_of_equipment': 'Machine',\n",
       "  'body_part': 'Lower Body',\n",
       "  'type': 'Push',\n",
       "  'muscle_groups_activated': 'Quadriceps',\n",
       "  'instructions': 'Sit on a leg extension machine and extend your legs until they are straight, then return to the starting position.'},\n",
       " {'ID': 110,\n",
       "  'exercise_name': 'Russian Kettlebell Swing',\n",
       "  'type_of_activity': 'Cardio/Strength',\n",
       "  'type_of_equipment': 'Kettlebell',\n",
       "  'body_part': 'Core',\n",
       "  'type': 'Push',\n",
       "  'muscle_groups_activated': 'Glutes, Hamstrings, Shoulders',\n",
       "  'instructions': 'Swing the kettlebell between your legs and up to shoulder height, driving the movement with your hips.'},\n",
       " {'ID': 67,\n",
       "  'exercise_name': 'Romanian Deadlift',\n",
       "  'type_of_activity': 'Strength',\n",
       "  'type_of_equipment': 'Barbell',\n",
       "  'body_part': 'Lower Body',\n",
       "  'type': 'Pull',\n",
       "  'muscle_groups_activated': 'Hamstrings, Glutes, Lower Back',\n",
       "  'instructions': 'Hold a barbell in front of your thighs. Bend at the hips to lower the bar down your legs, then return to standing.'}]"
      ]
     },
     "execution_count": 8,
     "metadata": {},
     "output_type": "execute_result"
    }
   ],
   "source": [
    "index.search(query, num_results=10)"
   ]
  },
  {
   "cell_type": "markdown",
   "metadata": {},
   "source": [
    "# Rag flow"
   ]
  },
  {
   "cell_type": "code",
   "execution_count": 9,
   "metadata": {},
   "outputs": [],
   "source": [
    "from google import genai"
   ]
  },
  {
   "cell_type": "code",
   "execution_count": 10,
   "metadata": {},
   "outputs": [],
   "source": [
    "import os\n",
    "os.environ[\"GEMINI_API_KEY\"] = \"YOUR_API_KEY\""
   ]
  },
  {
   "cell_type": "code",
   "execution_count": 11,
   "metadata": {},
   "outputs": [],
   "source": [
    "client = genai.Client(api_key=os.getenv(\"GEMINI_API_KEY\"))"
   ]
  },
  {
   "cell_type": "code",
   "execution_count": 12,
   "metadata": {},
   "outputs": [],
   "source": [
    "def search(query):\n",
    "    boost = {}\n",
    "\n",
    "    results = index.search(\n",
    "        query=query,\n",
    "        boost_dict=boost,\n",
    "        num_results=10\n",
    "    )\n",
    "\n",
    "    return results"
   ]
  },
  {
   "cell_type": "code",
   "execution_count": 13,
   "metadata": {},
   "outputs": [],
   "source": [
    "prompt_template = \"\"\"\n",
    "You're a fitness instructor. Answer the QUESTION based on the CONTEXT from our exercises database.\n",
    "Use only the facts from the CONTEXT when answering the QUESTION.\n",
    "\n",
    "QUESTION: {question}\n",
    "\n",
    "CONTEXT: \n",
    "{context}\n",
    "\"\"\".strip()\n",
    "\n",
    "entry_template = \"\"\"\n",
    "    'exercise_name': {exercise_name}\n",
    "    'type_of_activity': {type_of_activity}\n",
    "    'type_of_equipment': {type_of_equipment}\n",
    "    'body_part':  {body_part}\n",
    "    'type' : {type}\n",
    "    'muscle_groups_activated': {muscle_groups_activated}\n",
    "    'instructions': {instructions}\n",
    "\n",
    "    \"\"\".strip()"
   ]
  },
  {
   "cell_type": "code",
   "execution_count": 14,
   "metadata": {},
   "outputs": [],
   "source": [
    "def build_prompt(query, search_results):\n",
    "  \n",
    "\n",
    "    context = \"\"\n",
    "    \n",
    "    for doc in search_results:\n",
    "        context = context + entry_template.format(**doc) + \"\\n\\n\"\n",
    "    \n",
    "    prompt = prompt_template.format(question=query, context=context).strip()\n",
    "    return prompt"
   ]
  },
  {
   "cell_type": "code",
   "execution_count": 15,
   "metadata": {},
   "outputs": [],
   "source": [
    "search_results = search(query)\n",
    "prompt = build_prompt(query, search_results)"
   ]
  },
  {
   "cell_type": "code",
   "execution_count": 16,
   "metadata": {},
   "outputs": [],
   "source": [
    "\n",
    "\n",
    "def llm(prompt, model = \"gemini-1.5-flash\"):\n",
    "    \"\"\"\n",
    "    Call the LLM with the given prompt and model.\n",
    "    Args:\n",
    "        prompt (str): The prompt to send to the LLM.\n",
    "        model (str): The model to use for generating content.\n",
    "    Returns:\n",
    "        str: The generated content from the LLM.\n",
    "    \"\"\"\n",
    "    response = client.models.generate_content(\n",
    "        model=model,\n",
    "        contents=prompt,\n",
    "    )\n",
    "    \n",
    "    return response.text\n",
    "\n"
   ]
  },
  {
   "cell_type": "code",
   "execution_count": 17,
   "metadata": {},
   "outputs": [],
   "source": [
    "\n",
    "def rag(query):\n",
    "    search_results = search(query)\n",
    "    prompt = build_prompt(query, search_results)\n",
    "    answer = llm(prompt)\n",
    "    return answer"
   ]
  },
  {
   "cell_type": "markdown",
   "metadata": {},
   "source": [
    "## Retrieval evaluation"
   ]
  },
  {
   "cell_type": "code",
   "execution_count": 18,
   "metadata": {},
   "outputs": [],
   "source": [
    "prompt1_template = \"\"\"\n",
    "\n",
    "You emulate a user of our fitness assistant application. \n",
    "Formulate 5 questions a user might ask based on the provided exercise. \n",
    "Make the questions specific to the exercise. \n",
    "The record should contain the answers to the questions, and the questions should be complete and not too short.\n",
    "Use as few words as possible from the record.\n",
    "\n",
    "The record:\n",
    "\n",
    "exercise_name: {exercise_name} \n",
    "type_of_activity: {type_of_activity}\n",
    "type_of_equipment: {type_of_equipment}\n",
    "body_part: {body_part} type: {type} \n",
    "muscle_groups_activated: {muscle_groups_activated} \n",
    "instructions: {instructions}\n",
    "\n",
    "Provide the output as a pure JSON string, without wrapping it in Markdown code fences, code blocks, or any other formatting.\n",
    "Example output:\n",
    "\n",
    "{{\"questions\": [\"question1\", \"question2\", \"question3\", \"question4\", \"question5\"]}}\n",
    "Don't provide answers, just questions.\n",
    "\"\"\".strip()"
   ]
  },
  {
   "cell_type": "code",
   "execution_count": 20,
   "metadata": {},
   "outputs": [],
   "source": [
    "prompt = prompt1_template.format(**documents[0])"
   ]
  },
  {
   "cell_type": "code",
   "execution_count": 21,
   "metadata": {},
   "outputs": [],
   "source": [
    "questions = llm(prompt)"
   ]
  },
  {
   "cell_type": "code",
   "execution_count": 22,
   "metadata": {},
   "outputs": [
    {
     "data": {
      "text/plain": [
       "'{\"questions\": [\"How many sets and reps of push-ups should I aim for as a beginner?\", \"Can I modify the push-up to make it easier if I can\\'t do a full push-up?\", \"What is the proper hand placement for optimal activation of my pectoral muscles during push-ups?\", \"Besides the pectorals, triceps, and deltoids, what other muscles are indirectly involved in push-ups?\", \"If I feel pain in my wrists during push-ups, what alternative exercise can I substitute?\"]}\\n'"
      ]
     },
     "execution_count": 22,
     "metadata": {},
     "output_type": "execute_result"
    }
   ],
   "source": [
    "questions"
   ]
  },
  {
   "cell_type": "code",
   "execution_count": 23,
   "metadata": {},
   "outputs": [],
   "source": [
    "import json"
   ]
  },
  {
   "cell_type": "code",
   "execution_count": 24,
   "metadata": {},
   "outputs": [
    {
     "data": {
      "text/plain": [
       "{'questions': ['How many sets and reps of push-ups should I aim for as a beginner?',\n",
       "  \"Can I modify the push-up to make it easier if I can't do a full push-up?\",\n",
       "  'What is the proper hand placement for optimal activation of my pectoral muscles during push-ups?',\n",
       "  'Besides the pectorals, triceps, and deltoids, what other muscles are indirectly involved in push-ups?',\n",
       "  'If I feel pain in my wrists during push-ups, what alternative exercise can I substitute?']}"
      ]
     },
     "execution_count": 24,
     "metadata": {},
     "output_type": "execute_result"
    }
   ],
   "source": [
    "json.loads(questions)"
   ]
  },
  {
   "cell_type": "code",
   "execution_count": 29,
   "metadata": {},
   "outputs": [],
   "source": [
    "def generate_questions(doc):\n",
    "    prompt = prompt1_template.format(**doc)\n",
    "\n",
    "    response = llm(prompt)\n",
    "\n",
    "    json_response = response\n",
    "    return json_response"
   ]
  },
  {
   "cell_type": "code",
   "execution_count": 30,
   "metadata": {},
   "outputs": [],
   "source": [
    "from tqdm.auto import tqdm   \n"
   ]
  },
  {
   "cell_type": "code",
   "execution_count": 31,
   "metadata": {},
   "outputs": [],
   "source": [
    "results = {}\n"
   ]
  },
  {
   "cell_type": "code",
   "execution_count": null,
   "metadata": {},
   "outputs": [],
   "source": [
    "for doc in tqdm(documents):\n",
    "    doc_id = doc['ID']\n",
    "    if doc_id in results:\n",
    "        continue\n",
    "    questions_raw = generate_questions(doc)\n",
    "    questions = json.loads(questions_raw.strip())\n",
    "    results[doc_id] = questions['questions']"
   ]
  },
  {
   "cell_type": "code",
   "execution_count": 58,
   "metadata": {},
   "outputs": [],
   "source": [
    "final_results = []\n",
    "\n",
    "for doc_id, questions in results.items():\n",
    "    for q in questions:\n",
    "        final_results.append((doc_id, q))"
   ]
  },
  {
   "cell_type": "code",
   "execution_count": 59,
   "metadata": {},
   "outputs": [
    {
     "data": {
      "text/plain": [
       "(0,\n",
       " 'How many sets and repetitions of push-ups are recommended for building upper body strength?')"
      ]
     },
     "execution_count": 59,
     "metadata": {},
     "output_type": "execute_result"
    }
   ],
   "source": [
    "final_results[0]"
   ]
  },
  {
   "cell_type": "code",
   "execution_count": 62,
   "metadata": {},
   "outputs": [],
   "source": [
    "df_results= pd.DataFrame(final_results, columns=['id', 'question'])"
   ]
  },
  {
   "cell_type": "code",
   "execution_count": 63,
   "metadata": {},
   "outputs": [],
   "source": [
    "df_results.to_csv('../data/ground-trunth-retrieval.csv', index=False)"
   ]
  },
  {
   "cell_type": "code",
   "execution_count": 64,
   "metadata": {},
   "outputs": [
    {
     "name": "stdout",
     "output_type": "stream",
     "text": [
      "id,question\n",
      "0,How many sets and repetitions of push-ups are recommended for building upper body strength?\n",
      "0,Should my elbows be tucked in close to my body or flared out during push-ups?\n",
      "0,What modifications can I make to the push-up if I'm unable to perform a standard push-up?\n",
      "0,Does the position of my hands affect which muscles are primarily worked during a push-up?\n",
      "0,\"Are there variations of push-ups that target specific muscle groups within the chest, triceps, and shoulders?\"\n",
      "1,How many reps and sets of squats should I do for optimal muscle growth?\n",
      "1,\"Should my knees go past my toes during the squat, and if not, why?\"\n",
      "1,What are some common mistakes to avoid when performing squats to prevent injury?\n",
      "1,Is it better to do squats with a narrow or wide stance for targeting different muscle groups?\n"
     ]
    }
   ],
   "source": [
    "!head ../data/ground-trunth-retrieval.csv"
   ]
  },
  {
   "cell_type": "code",
   "execution_count": null,
   "metadata": {},
   "outputs": [],
   "source": []
  },
  {
   "cell_type": "code",
   "execution_count": 32,
   "metadata": {},
   "outputs": [],
   "source": [
    "df_questions = pd.read_csv('../data/ground-trunth-retrieval.csv')"
   ]
  },
  {
   "cell_type": "code",
   "execution_count": 34,
   "metadata": {},
   "outputs": [],
   "source": [
    "ground_truth = df_questions.to_dict(orient='records')"
   ]
  },
  {
   "cell_type": "code",
   "execution_count": 35,
   "metadata": {},
   "outputs": [
    {
     "data": {
      "text/plain": [
       "{'id': 0,\n",
       " 'question': 'How many sets and repetitions of push-ups are recommended for building upper body strength?'}"
      ]
     },
     "execution_count": 35,
     "metadata": {},
     "output_type": "execute_result"
    }
   ],
   "source": [
    "ground_truth[0]"
   ]
  },
  {
   "cell_type": "code",
   "execution_count": 36,
   "metadata": {},
   "outputs": [],
   "source": [
    "def hit_rate(relevance_total):\n",
    "    \"\"\"Calculate the hit rate\"\"\"\n",
    "    hits = sum([any(r) for r in relevance_total])\n",
    "    return hits / len(relevance_total)"
   ]
  },
  {
   "cell_type": "code",
   "execution_count": 37,
   "metadata": {},
   "outputs": [],
   "source": [
    "def mrr(relevance_total):\n",
    "    \"\"\"Calculate the Mean Reciprocal Rank (MRR)\"\"\"\n",
    "    ranks = []\n",
    "    for relevance in relevance_total:\n",
    "        try:\n",
    "            rank = 1 / (relevance.index(True) + 1)\n",
    "        except ValueError:\n",
    "            rank = 0\n",
    "        ranks.append(rank)\n",
    "    return sum(ranks) / len(ranks)"
   ]
  },
  {
   "cell_type": "code",
   "execution_count": 38,
   "metadata": {},
   "outputs": [],
   "source": [
    "def minsearch_search(query):\n",
    "    \"\"\"Perform a search using the minsearch index\"\"\"\n",
    "    boost = {}\n",
    "    results = index.search(\n",
    "        query=query,\n",
    "        boost_dict=boost,\n",
    "        num_results=10\n",
    "    )\n",
    "    return results"
   ]
  },
  {
   "cell_type": "code",
   "execution_count": 39,
   "metadata": {},
   "outputs": [],
   "source": [
    "def evaluate_search(ground_truth, search_fn):\n",
    "    \"\"\"Evaluate the search results\"\"\"\n",
    "    relevance_total = []\n",
    "    for q in tqdm(ground_truth):\n",
    "       doc_id = q[\"id\"]\n",
    "       results = search_fn(q)\n",
    "       relevance = [d[\"ID\"] == doc_id for d in results]\n",
    "       relevance_total.append(relevance)\n",
    "    return {\n",
    "        \"hit_rate\": hit_rate(relevance_total),\n",
    "        \"mrr\": mrr(relevance_total)\n",
    "    }"
   ]
  },
  {
   "cell_type": "code",
   "execution_count": 40,
   "metadata": {},
   "outputs": [
    {
     "data": {
      "application/vnd.jupyter.widget-view+json": {
       "model_id": "23ec94698d7d401b95dc3494f31888de",
       "version_major": 2,
       "version_minor": 0
      },
      "text/plain": [
       "  0%|          | 0/1045 [00:00<?, ?it/s]"
      ]
     },
     "metadata": {},
     "output_type": "display_data"
    },
    {
     "data": {
      "text/plain": [
       "{'hit_rate': 0.8966507177033493, 'mrr': 0.7020464038885091}"
      ]
     },
     "execution_count": 40,
     "metadata": {},
     "output_type": "execute_result"
    }
   ],
   "source": [
    "evaluate_search(ground_truth, lambda q: minsearch_search(query=q[\"question\"]))"
   ]
  },
  {
   "cell_type": "markdown",
   "metadata": {},
   "source": [
    "# Finding the best parameters"
   ]
  },
  {
   "cell_type": "code",
   "execution_count": 42,
   "metadata": {},
   "outputs": [],
   "source": [
    "df_validation = df_questions[:100]\n",
    "\n",
    "df_test = df_questions[100:]"
   ]
  },
  {
   "cell_type": "code",
   "execution_count": 43,
   "metadata": {},
   "outputs": [
    {
     "name": "stderr",
     "output_type": "stream",
     "text": [
      "/home/tousside/Documents/llm-my-own/fitness-rag/venv/lib/python3.12/site-packages/hyperopt/atpe.py:19: UserWarning: pkg_resources is deprecated as an API. See https://setuptools.pypa.io/en/latest/pkg_resources.html. The pkg_resources package is slated for removal as early as 2025-11-30. Refrain from using this package or pin to Setuptools<81.\n",
      "  import pkg_resources\n"
     ]
    }
   ],
   "source": [
    "from hyperopt import fmin, tpe, hp, Trials, STATUS_OK"
   ]
  },
  {
   "cell_type": "code",
   "execution_count": 44,
   "metadata": {},
   "outputs": [],
   "source": [
    "from hyperopt.pyll import scope"
   ]
  },
  {
   "cell_type": "markdown",
   "metadata": {},
   "source": [
    "## Finding the best parameters"
   ]
  },
  {
   "cell_type": "code",
   "execution_count": 45,
   "metadata": {},
   "outputs": [],
   "source": [
    "gt_val = df_validation.to_dict(orient='records')\n",
    "gt_test = df_test.to_dict(orient='records')"
   ]
  },
  {
   "cell_type": "code",
   "execution_count": 46,
   "metadata": {},
   "outputs": [
    {
     "data": {
      "application/vnd.jupyter.widget-view+json": {
       "model_id": "e1fa8418eba1431c877738195dcd8b96",
       "version_major": 2,
       "version_minor": 0
      },
      "text/plain": [
       "  0%|          | 0/100 [00:00<?, ?it/s]"
      ]
     },
     "metadata": {},
     "output_type": "display_data"
    },
    {
     "data": {
      "text/plain": [
       "{'hit_rate': 0.8, 'mrr': 0.5968849206349206}"
      ]
     },
     "execution_count": 46,
     "metadata": {},
     "output_type": "execute_result"
    }
   ],
   "source": [
    "evaluate_search(gt_val, lambda q: minsearch_search(query=q[\"question\"]))"
   ]
  },
  {
   "cell_type": "code",
   "execution_count": 47,
   "metadata": {},
   "outputs": [],
   "source": [
    "def minsearch_search_boosted(query, boost):\n",
    "    \"\"\"Perform a search using the minsearch index with boosting\"\"\"\n",
    "    results = index.search(\n",
    "        query=query,\n",
    "        boost_dict=boost,\n",
    "        num_results=10\n",
    "    )\n",
    "    return results\n"
   ]
  },
  {
   "cell_type": "code",
   "execution_count": 48,
   "metadata": {},
   "outputs": [],
   "source": [
    "param_ranges = {\n",
    "    \"exercise_name\": hp.uniform(\"exercise_name\", 0, 3),\n",
    "    \"type_of_activity\": hp.uniform(\"type_of_activity\", 0, 3),\n",
    "    \"type_of_equipment\": hp.uniform(\"type_of_equipment\", 0, 3),\n",
    "    \"body_part\": hp.uniform(\"body_part\", 0, 3),\n",
    "    \"type\": hp.uniform(\"type\", 0, 3),\n",
    "    \"muscle_groups_activated\": hp.uniform(\"muscle_groups_activated\", 0, 3),\n",
    "    \"instructions\": hp.uniform(\"instructions\", 0, 3)\n",
    "}"
   ]
  },
  {
   "cell_type": "code",
   "execution_count": 49,
   "metadata": {},
   "outputs": [],
   "source": [
    "def objective(boost_params):\n",
    "    def search_function(q):\n",
    "        return minsearch_search_boosted(\n",
    "            query=q[\"question\"],\n",
    "            boost=boost_params\n",
    "        )\n",
    "    results = evaluate_search(gt_val, search_function)\n",
    "    return -results[\"mrr\"]\n",
    "    "
   ]
  },
  {
   "cell_type": "code",
   "execution_count": 50,
   "metadata": {},
   "outputs": [
    {
     "name": "stdout",
     "output_type": "stream",
     "text": [
      "  0%|          | 0/20 [00:00<?, ?trial/s, best loss=?]"
     ]
    },
    {
     "data": {
      "application/vnd.jupyter.widget-view+json": {
       "model_id": "ee502c3b7d2c43b7bee9e99baa5c9e29",
       "version_major": 2,
       "version_minor": 0
      },
      "text/plain": [
       "  0%|          | 0/100 [00:00<?, ?it/s]"
      ]
     },
     "metadata": {},
     "output_type": "display_data"
    },
    {
     "name": "stdout",
     "output_type": "stream",
     "text": [
      "  5%|▌         | 1/20 [00:00<00:11,  1.67trial/s, best loss: -0.6468849206349206]"
     ]
    },
    {
     "data": {
      "application/vnd.jupyter.widget-view+json": {
       "model_id": "6f54c3afb1c240788e0da627e8046771",
       "version_major": 2,
       "version_minor": 0
      },
      "text/plain": [
       "  0%|          | 0/100 [00:00<?, ?it/s]"
      ]
     },
     "metadata": {},
     "output_type": "display_data"
    },
    {
     "name": "stdout",
     "output_type": "stream",
     "text": [
      " 10%|█         | 2/20 [00:01<00:10,  1.73trial/s, best loss: -0.6504444444444445]"
     ]
    },
    {
     "data": {
      "application/vnd.jupyter.widget-view+json": {
       "model_id": "495a62124e8d47b6935113c4bc67c983",
       "version_major": 2,
       "version_minor": 0
      },
      "text/plain": [
       "  0%|          | 0/100 [00:00<?, ?it/s]"
      ]
     },
     "metadata": {},
     "output_type": "display_data"
    },
    {
     "name": "stdout",
     "output_type": "stream",
     "text": [
      " 15%|█▌        | 3/20 [00:01<00:10,  1.65trial/s, best loss: -0.6504444444444445]"
     ]
    },
    {
     "data": {
      "application/vnd.jupyter.widget-view+json": {
       "model_id": "1b5355098ce847749d0949bb64f6a283",
       "version_major": 2,
       "version_minor": 0
      },
      "text/plain": [
       "  0%|          | 0/100 [00:00<?, ?it/s]"
      ]
     },
     "metadata": {},
     "output_type": "display_data"
    },
    {
     "name": "stdout",
     "output_type": "stream",
     "text": [
      " 20%|██        | 4/20 [00:02<00:09,  1.61trial/s, best loss: -0.6504444444444445]"
     ]
    },
    {
     "data": {
      "application/vnd.jupyter.widget-view+json": {
       "model_id": "6bb6d11f10dc474a9da995fcc1a0d55d",
       "version_major": 2,
       "version_minor": 0
      },
      "text/plain": [
       "  0%|          | 0/100 [00:00<?, ?it/s]"
      ]
     },
     "metadata": {},
     "output_type": "display_data"
    },
    {
     "name": "stdout",
     "output_type": "stream",
     "text": [
      " 25%|██▌       | 5/20 [00:03<00:09,  1.66trial/s, best loss: -0.6504444444444445]"
     ]
    },
    {
     "data": {
      "application/vnd.jupyter.widget-view+json": {
       "model_id": "640ed9137f3d43518fe26c8ff03414a3",
       "version_major": 2,
       "version_minor": 0
      },
      "text/plain": [
       "  0%|          | 0/100 [00:00<?, ?it/s]"
      ]
     },
     "metadata": {},
     "output_type": "display_data"
    },
    {
     "name": "stdout",
     "output_type": "stream",
     "text": [
      " 30%|███       | 6/20 [00:03<00:08,  1.57trial/s, best loss: -0.6504444444444445]"
     ]
    },
    {
     "data": {
      "application/vnd.jupyter.widget-view+json": {
       "model_id": "2fdd66222d094a2f8501a444fc4e5380",
       "version_major": 2,
       "version_minor": 0
      },
      "text/plain": [
       "  0%|          | 0/100 [00:00<?, ?it/s]"
      ]
     },
     "metadata": {},
     "output_type": "display_data"
    },
    {
     "name": "stdout",
     "output_type": "stream",
     "text": [
      " 35%|███▌      | 7/20 [00:04<00:08,  1.59trial/s, best loss: -0.6504444444444445]"
     ]
    },
    {
     "data": {
      "application/vnd.jupyter.widget-view+json": {
       "model_id": "3fe42509abae48a6ab654e8c3a8d3aa2",
       "version_major": 2,
       "version_minor": 0
      },
      "text/plain": [
       "  0%|          | 0/100 [00:00<?, ?it/s]"
      ]
     },
     "metadata": {},
     "output_type": "display_data"
    },
    {
     "name": "stdout",
     "output_type": "stream",
     "text": [
      " 40%|████      | 8/20 [00:05<00:07,  1.54trial/s, best loss: -0.6504444444444445]"
     ]
    },
    {
     "data": {
      "application/vnd.jupyter.widget-view+json": {
       "model_id": "4646217845354347a75230fb8179da2b",
       "version_major": 2,
       "version_minor": 0
      },
      "text/plain": [
       "  0%|          | 0/100 [00:00<?, ?it/s]"
      ]
     },
     "metadata": {},
     "output_type": "display_data"
    },
    {
     "name": "stdout",
     "output_type": "stream",
     "text": [
      " 45%|████▌     | 9/20 [00:05<00:07,  1.56trial/s, best loss: -0.6504444444444445]"
     ]
    },
    {
     "data": {
      "application/vnd.jupyter.widget-view+json": {
       "model_id": "a5ddfc8db1374492a4b2c68819c2c4e1",
       "version_major": 2,
       "version_minor": 0
      },
      "text/plain": [
       "  0%|          | 0/100 [00:00<?, ?it/s]"
      ]
     },
     "metadata": {},
     "output_type": "display_data"
    },
    {
     "name": "stdout",
     "output_type": "stream",
     "text": [
      " 50%|█████     | 10/20 [00:06<00:06,  1.58trial/s, best loss: -0.6504444444444445]"
     ]
    },
    {
     "data": {
      "application/vnd.jupyter.widget-view+json": {
       "model_id": "338dcbd10a414b538bef3acdc6ee09e2",
       "version_major": 2,
       "version_minor": 0
      },
      "text/plain": [
       "  0%|          | 0/100 [00:00<?, ?it/s]"
      ]
     },
     "metadata": {},
     "output_type": "display_data"
    },
    {
     "name": "stdout",
     "output_type": "stream",
     "text": [
      " 55%|█████▌    | 11/20 [00:07<00:06,  1.49trial/s, best loss: -0.6504444444444445]"
     ]
    },
    {
     "data": {
      "application/vnd.jupyter.widget-view+json": {
       "model_id": "ade432e764d2420bbea1423590463ce7",
       "version_major": 2,
       "version_minor": 0
      },
      "text/plain": [
       "  0%|          | 0/100 [00:00<?, ?it/s]"
      ]
     },
     "metadata": {},
     "output_type": "display_data"
    },
    {
     "name": "stdout",
     "output_type": "stream",
     "text": [
      " 60%|██████    | 12/20 [00:07<00:05,  1.55trial/s, best loss: -0.6642063492063492]"
     ]
    },
    {
     "data": {
      "application/vnd.jupyter.widget-view+json": {
       "model_id": "3c61a8328d7e4c0da1ea2b659f8bda70",
       "version_major": 2,
       "version_minor": 0
      },
      "text/plain": [
       "  0%|          | 0/100 [00:00<?, ?it/s]"
      ]
     },
     "metadata": {},
     "output_type": "display_data"
    },
    {
     "name": "stdout",
     "output_type": "stream",
     "text": [
      " 65%|██████▌   | 13/20 [00:08<00:04,  1.62trial/s, best loss: -0.6642063492063492]"
     ]
    },
    {
     "data": {
      "application/vnd.jupyter.widget-view+json": {
       "model_id": "b2a04400da134bef85f0f0cb9d2dcbb1",
       "version_major": 2,
       "version_minor": 0
      },
      "text/plain": [
       "  0%|          | 0/100 [00:00<?, ?it/s]"
      ]
     },
     "metadata": {},
     "output_type": "display_data"
    },
    {
     "name": "stdout",
     "output_type": "stream",
     "text": [
      " 70%|███████   | 14/20 [00:08<00:03,  1.60trial/s, best loss: -0.6642063492063492]"
     ]
    },
    {
     "data": {
      "application/vnd.jupyter.widget-view+json": {
       "model_id": "3109f08c70da4e6a90c35cfdca3e64ac",
       "version_major": 2,
       "version_minor": 0
      },
      "text/plain": [
       "  0%|          | 0/100 [00:00<?, ?it/s]"
      ]
     },
     "metadata": {},
     "output_type": "display_data"
    },
    {
     "name": "stdout",
     "output_type": "stream",
     "text": [
      " 75%|███████▌  | 15/20 [00:09<00:03,  1.64trial/s, best loss: -0.6642063492063492]"
     ]
    },
    {
     "data": {
      "application/vnd.jupyter.widget-view+json": {
       "model_id": "ed5df8f0cc694d0f8f6c7a507c7c2d3a",
       "version_major": 2,
       "version_minor": 0
      },
      "text/plain": [
       "  0%|          | 0/100 [00:00<?, ?it/s]"
      ]
     },
     "metadata": {},
     "output_type": "display_data"
    },
    {
     "name": "stdout",
     "output_type": "stream",
     "text": [
      " 80%|████████  | 16/20 [00:09<00:02,  1.73trial/s, best loss: -0.6642063492063492]"
     ]
    },
    {
     "data": {
      "application/vnd.jupyter.widget-view+json": {
       "model_id": "91ffb2c5420f47fcb0c90b8a177c08b7",
       "version_major": 2,
       "version_minor": 0
      },
      "text/plain": [
       "  0%|          | 0/100 [00:00<?, ?it/s]"
      ]
     },
     "metadata": {},
     "output_type": "display_data"
    },
    {
     "name": "stdout",
     "output_type": "stream",
     "text": [
      " 85%|████████▌ | 17/20 [00:10<00:01,  1.72trial/s, best loss: -0.6642063492063492]"
     ]
    },
    {
     "data": {
      "application/vnd.jupyter.widget-view+json": {
       "model_id": "008b78c476b647bba52fa03d90b3df10",
       "version_major": 2,
       "version_minor": 0
      },
      "text/plain": [
       "  0%|          | 0/100 [00:00<?, ?it/s]"
      ]
     },
     "metadata": {},
     "output_type": "display_data"
    },
    {
     "name": "stdout",
     "output_type": "stream",
     "text": [
      " 90%|█████████ | 18/20 [00:11<00:01,  1.66trial/s, best loss: -0.6642063492063492]"
     ]
    },
    {
     "data": {
      "application/vnd.jupyter.widget-view+json": {
       "model_id": "abc4ba1e653c422192fdea8c2fb73dee",
       "version_major": 2,
       "version_minor": 0
      },
      "text/plain": [
       "  0%|          | 0/100 [00:00<?, ?it/s]"
      ]
     },
     "metadata": {},
     "output_type": "display_data"
    },
    {
     "name": "stdout",
     "output_type": "stream",
     "text": [
      " 95%|█████████▌| 19/20 [00:11<00:00,  1.64trial/s, best loss: -0.6642063492063492]"
     ]
    },
    {
     "data": {
      "application/vnd.jupyter.widget-view+json": {
       "model_id": "100aaaac86a44bfeaf61a61a30e5ccdb",
       "version_major": 2,
       "version_minor": 0
      },
      "text/plain": [
       "  0%|          | 0/100 [00:00<?, ?it/s]"
      ]
     },
     "metadata": {},
     "output_type": "display_data"
    },
    {
     "name": "stdout",
     "output_type": "stream",
     "text": [
      "100%|██████████| 20/20 [00:12<00:00,  1.63trial/s, best loss: -0.6642063492063492]\n"
     ]
    }
   ],
   "source": [
    "optim_params = fmin(objective,\n",
    "    space=param_ranges,\n",
    "    algo=tpe.suggest,\n",
    "    max_evals=20,\n",
    "    trials=Trials()\n",
    ")"
   ]
  },
  {
   "cell_type": "code",
   "execution_count": 51,
   "metadata": {},
   "outputs": [
    {
     "data": {
      "text/plain": [
       "{'body_part': np.float64(0.28948257778251707),\n",
       " 'exercise_name': np.float64(2.0824319225191696),\n",
       " 'instructions': np.float64(2.117875365915427),\n",
       " 'muscle_groups_activated': np.float64(0.3778777904539854),\n",
       " 'type': np.float64(1.2345697029690499),\n",
       " 'type_of_activity': np.float64(2.6855588701365107),\n",
       " 'type_of_equipment': np.float64(0.4626335300269879)}"
      ]
     },
     "execution_count": 51,
     "metadata": {},
     "output_type": "execute_result"
    }
   ],
   "source": [
    "optim_params"
   ]
  },
  {
   "cell_type": "code",
   "execution_count": 52,
   "metadata": {},
   "outputs": [
    {
     "data": {
      "application/vnd.jupyter.widget-view+json": {
       "model_id": "b15df694d9d44bceb7e6380a9d833a2e",
       "version_major": 2,
       "version_minor": 0
      },
      "text/plain": [
       "  0%|          | 0/1045 [00:00<?, ?it/s]"
      ]
     },
     "metadata": {},
     "output_type": "display_data"
    },
    {
     "data": {
      "text/plain": [
       "{'hit_rate': 0.9358851674641149, 'mrr': 0.7871326042378675}"
      ]
     },
     "execution_count": 52,
     "metadata": {},
     "output_type": "execute_result"
    }
   ],
   "source": [
    "evaluate_search(ground_truth, lambda q: minsearch_search_boosted(query=q[\"question\"], boost=optim_params))"
   ]
  },
  {
   "cell_type": "code",
   "execution_count": 53,
   "metadata": {},
   "outputs": [],
   "source": [
    "def minsearch_search_improved(query):\n",
    "    \"\"\"Perform a search using the minsearch index with optimized boosting\"\"\"\n",
    "    \n",
    "    boost = {'body_part': 0.947771590052861,\n",
    "            'exercise_name': 2.8439224585464493,\n",
    "            'instructions': 0.6987228015703881,\n",
    "            'muscle_groups_activated': 0.49261344050772715,\n",
    "            'type': 2.587600420079811,\n",
    "            'type_of_activity': 0.3898333128794963,\n",
    "            'type_of_equipment': 1.234288967556835\n",
    "            }\n",
    "    return minsearch_search_boosted(query=query, boost=boost)"
   ]
  },
  {
   "cell_type": "code",
   "execution_count": 54,
   "metadata": {},
   "outputs": [
    {
     "data": {
      "application/vnd.jupyter.widget-view+json": {
       "model_id": "12db2267b06c4f50b0e23e7d3eb56c14",
       "version_major": 2,
       "version_minor": 0
      },
      "text/plain": [
       "  0%|          | 0/1045 [00:00<?, ?it/s]"
      ]
     },
     "metadata": {},
     "output_type": "display_data"
    },
    {
     "data": {
      "text/plain": [
       "{'hit_rate': 0.9349282296650717, 'mrr': 0.7900831624515836}"
      ]
     },
     "execution_count": 54,
     "metadata": {},
     "output_type": "execute_result"
    }
   ],
   "source": [
    "evaluate_search(ground_truth, lambda q: minsearch_search_improved(query=q[\"question\"]))"
   ]
  },
  {
   "cell_type": "markdown",
   "metadata": {},
   "source": [
    "# RAG Evaluation"
   ]
  },
  {
   "cell_type": "code",
   "execution_count": 55,
   "metadata": {},
   "outputs": [],
   "source": [
    "\n",
    "def rag(query, model=\"gemini-1.5-flash\"):\n",
    "    search_results = minsearch_search_improved(query)\n",
    "    prompt = build_prompt(query, search_results)\n",
    "    answer = llm(prompt, model=model)\n",
    "    return answer"
   ]
  },
  {
   "cell_type": "code",
   "execution_count": 56,
   "metadata": {},
   "outputs": [],
   "source": [
    "prompt2_template = \"\"\"\n",
    "You are an expert judge evaluating a generated answer in a Question-Answering (QA) system. You do NOT have access to a reference answer.\n",
    "\n",
    "You are given:\n",
    "- A generated question\n",
    "- A generated answer\n",
    "\n",
    "Your task is to assess whether the generated answer is appropriate, coherent, and directly relevant to the question.\n",
    "\n",
    "Provide the output as a pure JSON string, without wrapping it in Markdown code fences, code blocks, or any other formatting.\n",
    "Example output:\n",
    "\n",
    "{{\n",
    "  \"evaluation\": \"RELEVANT\" | \"PARTIALLY_RELEVANT\" | \"NON_RELEVANT\",\n",
    "  \"explanation\": \"Brief explanation of your reasoning\"\n",
    "}}\n",
    "\n",
    "Guidelines:\n",
    "- \"RELEVANT\": The answer is coherent, correct, and directly answers the question.\n",
    "- \"PARTIALLY_RELEVANT\": The answer is partially correct or vague, or it omits key information.\n",
    "- \"NON_RELEVANT\": The answer does not answer the question, is off-topic, or is factually incorrect.\n",
    "\n",
    "Now evaluate:\n",
    "\n",
    "Question: {question} \n",
    "Generated Answer: {answer_llm}\n",
    "\"\"\".strip()"
   ]
  },
  {
   "cell_type": "code",
   "execution_count": 57,
   "metadata": {},
   "outputs": [],
   "source": [
    "record = ground_truth[0]"
   ]
  },
  {
   "cell_type": "code",
   "execution_count": 58,
   "metadata": {},
   "outputs": [
    {
     "name": "stdout",
     "output_type": "stream",
     "text": [
      "You are an expert judge evaluating a generated answer in a Question-Answering (QA) system. You do NOT have access to a reference answer.\n",
      "\n",
      "You are given:\n",
      "- A generated question\n",
      "- A generated answer\n",
      "\n",
      "Your task is to assess whether the generated answer is appropriate, coherent, and directly relevant to the question.\n",
      "\n",
      "Provide the output as a pure JSON string, without wrapping it in Markdown code fences, code blocks, or any other formatting.\n",
      "Example output:\n",
      "\n",
      "{\n",
      "  \"evaluation\": \"RELEVANT\" | \"PARTIALLY_RELEVANT\" | \"NON_RELEVANT\",\n",
      "  \"explanation\": \"Brief explanation of your reasoning\"\n",
      "}\n",
      "\n",
      "Guidelines:\n",
      "- \"RELEVANT\": The answer is coherent, correct, and directly answers the question.\n",
      "- \"PARTIALLY_RELEVANT\": The answer is partially correct or vague, or it omits key information.\n",
      "- \"NON_RELEVANT\": The answer does not answer the question, is off-topic, or is factually incorrect.\n",
      "\n",
      "Now evaluate:\n",
      "\n",
      "Question: How many sets and repetitions of push-ups are recommended for building upper body strength? \n",
      "Generated Answer: The provided text describes various push-up exercises but doesn't specify the number of sets and repetitions recommended for building upper body strength.\n",
      "\n"
     ]
    }
   ],
   "source": [
    "question = record['question']\n",
    "answer_llm = rag(question)\n",
    "prompt2 = prompt2_template.format(question=question, answer_llm=answer_llm)\n",
    "print(prompt2)"
   ]
  },
  {
   "cell_type": "code",
   "execution_count": 59,
   "metadata": {},
   "outputs": [],
   "source": [
    "df_sample = df_questions.sample(200)\n",
    "sample = df_sample.to_dict(orient='records')"
   ]
  },
  {
   "cell_type": "code",
   "execution_count": 143,
   "metadata": {},
   "outputs": [],
   "source": [
    "import json"
   ]
  },
  {
   "cell_type": "code",
   "execution_count": 60,
   "metadata": {},
   "outputs": [],
   "source": [
    "evaluations = []"
   ]
  },
  {
   "cell_type": "code",
   "execution_count": 61,
   "metadata": {},
   "outputs": [
    {
     "data": {
      "application/vnd.jupyter.widget-view+json": {
       "model_id": "49308319944a4765a485fe9857095f18",
       "version_major": 2,
       "version_minor": 0
      },
      "text/plain": [
       "  0%|          | 0/200 [00:00<?, ?it/s]"
      ]
     },
     "metadata": {},
     "output_type": "display_data"
    }
   ],
   "source": [
    "for rec in tqdm(sample):\n",
    "    id = rec['id']\n",
    "    # if id in evaluations:\n",
    "    #     continue\n",
    "    question = rec['question']\n",
    "    \n",
    "    answer_llm = rag(question)\n",
    "    # Generate the evaluation prompt\n",
    "    prompt = prompt2_template.format(question=question, answer_llm=answer_llm)\n",
    "    evaluation = json.loads(llm(prompt))\n",
    "    evaluations.append((id, rec, answer_llm, evaluation[\"evaluation\"], evaluation[\"explanation\"]))"
   ]
  },
  {
   "cell_type": "code",
   "execution_count": 63,
   "metadata": {},
   "outputs": [],
   "source": [
    "evaluations[0]\n",
    "df_evaluations = pd.DataFrame(evaluations, columns=['id', 'record', 'answer_llm', 'evaluation', 'explanation'])"
   ]
  },
  {
   "cell_type": "code",
   "execution_count": 64,
   "metadata": {},
   "outputs": [
    {
     "data": {
      "text/html": [
       "<div>\n",
       "<style scoped>\n",
       "    .dataframe tbody tr th:only-of-type {\n",
       "        vertical-align: middle;\n",
       "    }\n",
       "\n",
       "    .dataframe tbody tr th {\n",
       "        vertical-align: top;\n",
       "    }\n",
       "\n",
       "    .dataframe thead th {\n",
       "        text-align: right;\n",
       "    }\n",
       "</style>\n",
       "<table border=\"1\" class=\"dataframe\">\n",
       "  <thead>\n",
       "    <tr style=\"text-align: right;\">\n",
       "      <th></th>\n",
       "      <th>id</th>\n",
       "      <th>record</th>\n",
       "      <th>answer_llm</th>\n",
       "      <th>evaluation</th>\n",
       "      <th>explanation</th>\n",
       "    </tr>\n",
       "  </thead>\n",
       "  <tbody>\n",
       "    <tr>\n",
       "      <th>0</th>\n",
       "      <td>177</td>\n",
       "      <td>{'id': 177, 'question': 'Can I modify the Cabl...</td>\n",
       "      <td>The provided text describes several exercises ...</td>\n",
       "      <td>RELEVANT</td>\n",
       "      <td>The answer directly addresses the question by ...</td>\n",
       "    </tr>\n",
       "    <tr>\n",
       "      <th>1</th>\n",
       "      <td>207</td>\n",
       "      <td>{'id': 207, 'question': 'How can I modify the ...</td>\n",
       "      <td>The provided text suggests using a resistance ...</td>\n",
       "      <td>RELEVANT</td>\n",
       "      <td>The answer directly addresses the question by ...</td>\n",
       "    </tr>\n",
       "    <tr>\n",
       "      <th>2</th>\n",
       "      <td>38</td>\n",
       "      <td>{'id': 38, 'question': 'Should I keep my back ...</td>\n",
       "      <td>The provided text describes how to perform a l...</td>\n",
       "      <td>PARTIALLY_RELEVANT</td>\n",
       "      <td>The answer correctly points out that the provi...</td>\n",
       "    </tr>\n",
       "    <tr>\n",
       "      <th>3</th>\n",
       "      <td>125</td>\n",
       "      <td>{'id': 125, 'question': 'What modifications ca...</td>\n",
       "      <td>The provided text describes the Superman exerc...</td>\n",
       "      <td>PARTIALLY_RELEVANT</td>\n",
       "      <td>The answer correctly identifies that the provi...</td>\n",
       "    </tr>\n",
       "    <tr>\n",
       "      <th>4</th>\n",
       "      <td>145</td>\n",
       "      <td>{'id': 145, 'question': 'How many repetitions ...</td>\n",
       "      <td>The provided text gives instructions for a Sta...</td>\n",
       "      <td>PARTIALLY_RELEVANT</td>\n",
       "      <td>The answer correctly identifies that the quest...</td>\n",
       "    </tr>\n",
       "  </tbody>\n",
       "</table>\n",
       "</div>"
      ],
      "text/plain": [
       "    id                                             record  \\\n",
       "0  177  {'id': 177, 'question': 'Can I modify the Cabl...   \n",
       "1  207  {'id': 207, 'question': 'How can I modify the ...   \n",
       "2   38  {'id': 38, 'question': 'Should I keep my back ...   \n",
       "3  125  {'id': 125, 'question': 'What modifications ca...   \n",
       "4  145  {'id': 145, 'question': 'How many repetitions ...   \n",
       "\n",
       "                                          answer_llm          evaluation  \\\n",
       "0  The provided text describes several exercises ...            RELEVANT   \n",
       "1  The provided text suggests using a resistance ...            RELEVANT   \n",
       "2  The provided text describes how to perform a l...  PARTIALLY_RELEVANT   \n",
       "3  The provided text describes the Superman exerc...  PARTIALLY_RELEVANT   \n",
       "4  The provided text gives instructions for a Sta...  PARTIALLY_RELEVANT   \n",
       "\n",
       "                                         explanation  \n",
       "0  The answer directly addresses the question by ...  \n",
       "1  The answer directly addresses the question by ...  \n",
       "2  The answer correctly points out that the provi...  \n",
       "3  The answer correctly identifies that the provi...  \n",
       "4  The answer correctly identifies that the quest...  "
      ]
     },
     "execution_count": 64,
     "metadata": {},
     "output_type": "execute_result"
    }
   ],
   "source": [
    "df_evaluations.head()"
   ]
  },
  {
   "cell_type": "code",
   "execution_count": 71,
   "metadata": {},
   "outputs": [
    {
     "name": "stdout",
     "output_type": "stream",
     "text": [
      "id,answer_llm,relevance,explanation,question\n",
      "177,\"The provided text describes several exercises using a cable machine.  It does not offer modifications for these exercises if a cable machine is unavailable.\n",
      "\",RELEVANT,The answer directly addresses the question by stating that the provided text (presumably context not shown here) lacks modifications for cable exercises when a cable machine is unavailable.  This is a concise and accurate response to the inquiry.,Can I modify the Cable Tricep Kickback exercise if I lack access to a cable machine?\n",
      "207,\"The provided text suggests using a resistance band as an alternative.  Attach a resistance band to a high anchor point and pull the band towards your face, leading with your elbows.\n",
      "\",RELEVANT,The answer directly addresses the question by providing a suitable modification for the face pull exercise when a cable machine is unavailable.  It offers a clear and concise alternative using resistance bands.,How can I modify the face pull if I don't have access to a cable machine?\n",
      "38,\"The provided text describes how to perform a leg press:  \"\"Sit on a leg press machine with your feet shoulder-width apart on the platform. Push the platform away by extending your legs.\"\"  There is no information about maintaining a flat back against the backrest during the exercise.\n",
      "\",PARTIALLY_RELEVANT,\"The answer correctly points out that the provided text lacks information about back posture during a leg press. However, it doesn't directly answer the question of whether one *should* keep their back flat.  It only notes the absence of guidance on this specific point, which is partially relevant but not a complete answer.\",Should I keep my back flat against the backrest throughout the entire leg press movement?\n",
      "125,\"The provided text describes the Superman exercise but does not offer modifications for lower back pain.\n",
      "\",PARTIALLY_RELEVANT,\"The answer correctly identifies that the provided context lacks information on modifications for lower back pain during Superman exercises. However, it doesn't offer any alternative solutions or suggestions, making it only partially relevant.\",What modifications can I make to the Superman exercise if I have lower back pain?\n",
      "145,\"The provided text gives instructions for a Stability Ball Pike, but doesn't specify the number of repetitions.\n"
     ]
    }
   ],
   "source": [
    "# df_evaluations[\"question\"] = df_evaluations[\"record\"].apply(lambda x: x['question'])\n",
    "# df_evaluations[\"id\"] = df_evaluations[\"record\"].apply(lambda x: x['id'])\n",
    "# df_evaluations = df_evaluations.drop(columns=['record'])\n",
    "df_evaluations.rename(columns={'evaluation': 'relevance'}, inplace=True)\n",
    "df_evaluations.to_csv('../data/ground-truth-evaluation.csv', index=False)\n",
    "!head ../data/ground-truth-evaluation.csv"
   ]
  },
  {
   "cell_type": "code",
   "execution_count": 72,
   "metadata": {},
   "outputs": [
    {
     "data": {
      "text/html": [
       "<div>\n",
       "<style scoped>\n",
       "    .dataframe tbody tr th:only-of-type {\n",
       "        vertical-align: middle;\n",
       "    }\n",
       "\n",
       "    .dataframe tbody tr th {\n",
       "        vertical-align: top;\n",
       "    }\n",
       "\n",
       "    .dataframe thead th {\n",
       "        text-align: right;\n",
       "    }\n",
       "</style>\n",
       "<table border=\"1\" class=\"dataframe\">\n",
       "  <thead>\n",
       "    <tr style=\"text-align: right;\">\n",
       "      <th></th>\n",
       "      <th>id</th>\n",
       "      <th>answer_llm</th>\n",
       "      <th>relevance</th>\n",
       "      <th>explanation</th>\n",
       "      <th>question</th>\n",
       "    </tr>\n",
       "  </thead>\n",
       "  <tbody>\n",
       "    <tr>\n",
       "      <th>0</th>\n",
       "      <td>177</td>\n",
       "      <td>The provided text describes several exercises ...</td>\n",
       "      <td>RELEVANT</td>\n",
       "      <td>The answer directly addresses the question by ...</td>\n",
       "      <td>Can I modify the Cable Tricep Kickback exercis...</td>\n",
       "    </tr>\n",
       "    <tr>\n",
       "      <th>1</th>\n",
       "      <td>207</td>\n",
       "      <td>The provided text suggests using a resistance ...</td>\n",
       "      <td>RELEVANT</td>\n",
       "      <td>The answer directly addresses the question by ...</td>\n",
       "      <td>How can I modify the face pull if I don't have...</td>\n",
       "    </tr>\n",
       "    <tr>\n",
       "      <th>2</th>\n",
       "      <td>38</td>\n",
       "      <td>The provided text describes how to perform a l...</td>\n",
       "      <td>PARTIALLY_RELEVANT</td>\n",
       "      <td>The answer correctly points out that the provi...</td>\n",
       "      <td>Should I keep my back flat against the backres...</td>\n",
       "    </tr>\n",
       "    <tr>\n",
       "      <th>3</th>\n",
       "      <td>125</td>\n",
       "      <td>The provided text describes the Superman exerc...</td>\n",
       "      <td>PARTIALLY_RELEVANT</td>\n",
       "      <td>The answer correctly identifies that the provi...</td>\n",
       "      <td>What modifications can I make to the Superman ...</td>\n",
       "    </tr>\n",
       "    <tr>\n",
       "      <th>4</th>\n",
       "      <td>145</td>\n",
       "      <td>The provided text gives instructions for a Sta...</td>\n",
       "      <td>PARTIALLY_RELEVANT</td>\n",
       "      <td>The answer correctly identifies that the quest...</td>\n",
       "      <td>How many repetitions should I aim for in a Sta...</td>\n",
       "    </tr>\n",
       "  </tbody>\n",
       "</table>\n",
       "</div>"
      ],
      "text/plain": [
       "    id                                         answer_llm           relevance  \\\n",
       "0  177  The provided text describes several exercises ...            RELEVANT   \n",
       "1  207  The provided text suggests using a resistance ...            RELEVANT   \n",
       "2   38  The provided text describes how to perform a l...  PARTIALLY_RELEVANT   \n",
       "3  125  The provided text describes the Superman exerc...  PARTIALLY_RELEVANT   \n",
       "4  145  The provided text gives instructions for a Sta...  PARTIALLY_RELEVANT   \n",
       "\n",
       "                                         explanation  \\\n",
       "0  The answer directly addresses the question by ...   \n",
       "1  The answer directly addresses the question by ...   \n",
       "2  The answer correctly points out that the provi...   \n",
       "3  The answer correctly identifies that the provi...   \n",
       "4  The answer correctly identifies that the quest...   \n",
       "\n",
       "                                            question  \n",
       "0  Can I modify the Cable Tricep Kickback exercis...  \n",
       "1  How can I modify the face pull if I don't have...  \n",
       "2  Should I keep my back flat against the backres...  \n",
       "3  What modifications can I make to the Superman ...  \n",
       "4  How many repetitions should I aim for in a Sta...  "
      ]
     },
     "execution_count": 72,
     "metadata": {},
     "output_type": "execute_result"
    }
   ],
   "source": [
    "df_evaluations.head()"
   ]
  },
  {
   "cell_type": "code",
   "execution_count": 74,
   "metadata": {},
   "outputs": [
    {
     "data": {
      "text/plain": [
       "relevance\n",
       "PARTIALLY_RELEVANT    0.480\n",
       "NON_RELEVANT          0.415\n",
       "RELEVANT              0.105\n",
       "Name: proportion, dtype: float64"
      ]
     },
     "execution_count": 74,
     "metadata": {},
     "output_type": "execute_result"
    }
   ],
   "source": [
    "df_evaluations.relevance.value_counts(normalize=True)"
   ]
  },
  {
   "cell_type": "code",
   "execution_count": 89,
   "metadata": {},
   "outputs": [],
   "source": [
    "evaluation_gemini20flash = []"
   ]
  },
  {
   "cell_type": "code",
   "execution_count": 91,
   "metadata": {},
   "outputs": [
    {
     "data": {
      "application/vnd.jupyter.widget-view+json": {
       "model_id": "2ec3baf9ce164e54b581d6861a7d57d1",
       "version_major": 2,
       "version_minor": 0
      },
      "text/plain": [
       "  0%|          | 0/200 [00:00<?, ?it/s]"
      ]
     },
     "metadata": {},
     "output_type": "display_data"
    }
   ],
   "source": [
    "for rec in tqdm(sample):\n",
    "    id = rec['id']\n",
    "    # if id in evaluations:\n",
    "    #     continue\n",
    "    question = rec['question']\n",
    "    \n",
    "    answer_llm = rag(question, model=\"gemini-2.0-flash\")\n",
    "    # Generate the evaluation prompt\n",
    "    prompt = prompt2_template.format(question=question, answer_llm=answer_llm)\n",
    "    evaluation = json.loads(llm(prompt))\n",
    "    # print(evaluation[\"evaluation\"], evaluation[\"explanation\"])\n",
    "    evaluation_gemini20flash.append((id, rec, answer_llm, evaluation[\"evaluation\"], evaluation[\"explanation\"]))"
   ]
  },
  {
   "cell_type": "code",
   "execution_count": 92,
   "metadata": {},
   "outputs": [
    {
     "data": {
      "text/html": [
       "<div>\n",
       "<style scoped>\n",
       "    .dataframe tbody tr th:only-of-type {\n",
       "        vertical-align: middle;\n",
       "    }\n",
       "\n",
       "    .dataframe tbody tr th {\n",
       "        vertical-align: top;\n",
       "    }\n",
       "\n",
       "    .dataframe thead th {\n",
       "        text-align: right;\n",
       "    }\n",
       "</style>\n",
       "<table border=\"1\" class=\"dataframe\">\n",
       "  <thead>\n",
       "    <tr style=\"text-align: right;\">\n",
       "      <th></th>\n",
       "      <th>id</th>\n",
       "      <th>answer_llm</th>\n",
       "      <th>relevance</th>\n",
       "      <th>explanation</th>\n",
       "      <th>question</th>\n",
       "    </tr>\n",
       "  </thead>\n",
       "  <tbody>\n",
       "    <tr>\n",
       "      <th>0</th>\n",
       "      <td>177</td>\n",
       "      <td>The Cable Tricep Kickback exercise requires a ...</td>\n",
       "      <td>PARTIALLY_RELEVANT</td>\n",
       "      <td>The answer correctly states that the exercise ...</td>\n",
       "      <td>Can I modify the Cable Tricep Kickback exercis...</td>\n",
       "    </tr>\n",
       "    <tr>\n",
       "      <th>1</th>\n",
       "      <td>207</td>\n",
       "      <td>You can modify the face pull by using a resist...</td>\n",
       "      <td>RELEVANT</td>\n",
       "      <td>The answer directly addresses the question by ...</td>\n",
       "      <td>How can I modify the face pull if I don't have...</td>\n",
       "    </tr>\n",
       "    <tr>\n",
       "      <th>2</th>\n",
       "      <td>38</td>\n",
       "      <td>The provided text does not include instruction...</td>\n",
       "      <td>NON_RELEVANT</td>\n",
       "      <td>The answer is a canned response indicating tha...</td>\n",
       "      <td>Should I keep my back flat against the backres...</td>\n",
       "    </tr>\n",
       "    <tr>\n",
       "      <th>3</th>\n",
       "      <td>125</td>\n",
       "      <td>I am sorry, but the provided context does not ...</td>\n",
       "      <td>PARTIALLY_RELEVANT</td>\n",
       "      <td>The answer is honest in stating it cannot prov...</td>\n",
       "      <td>What modifications can I make to the Superman ...</td>\n",
       "    </tr>\n",
       "    <tr>\n",
       "      <th>4</th>\n",
       "      <td>145</td>\n",
       "      <td>I am sorry, but the number of repetitions for ...</td>\n",
       "      <td>PARTIALLY_RELEVANT</td>\n",
       "      <td>The answer acknowledges it cannot provide a sp...</td>\n",
       "      <td>How many repetitions should I aim for in a Sta...</td>\n",
       "    </tr>\n",
       "  </tbody>\n",
       "</table>\n",
       "</div>"
      ],
      "text/plain": [
       "    id                                         answer_llm           relevance  \\\n",
       "0  177  The Cable Tricep Kickback exercise requires a ...  PARTIALLY_RELEVANT   \n",
       "1  207  You can modify the face pull by using a resist...            RELEVANT   \n",
       "2   38  The provided text does not include instruction...        NON_RELEVANT   \n",
       "3  125  I am sorry, but the provided context does not ...  PARTIALLY_RELEVANT   \n",
       "4  145  I am sorry, but the number of repetitions for ...  PARTIALLY_RELEVANT   \n",
       "\n",
       "                                         explanation  \\\n",
       "0  The answer correctly states that the exercise ...   \n",
       "1  The answer directly addresses the question by ...   \n",
       "2  The answer is a canned response indicating tha...   \n",
       "3  The answer is honest in stating it cannot prov...   \n",
       "4  The answer acknowledges it cannot provide a sp...   \n",
       "\n",
       "                                            question  \n",
       "0  Can I modify the Cable Tricep Kickback exercis...  \n",
       "1  How can I modify the face pull if I don't have...  \n",
       "2  Should I keep my back flat against the backres...  \n",
       "3  What modifications can I make to the Superman ...  \n",
       "4  How many repetitions should I aim for in a Sta...  "
      ]
     },
     "execution_count": 92,
     "metadata": {},
     "output_type": "execute_result"
    }
   ],
   "source": [
    "df_evaluations_gemini20flash = pd.DataFrame(evaluation_gemini20flash, columns=['id', 'record', 'answer_llm', 'evaluation', \"explanation\"])\n",
    "df_evaluations_gemini20flash.rename(columns={'evaluation': 'relevance'}, inplace=True)\n",
    "df_evaluations_gemini20flash[\"question\"] = df_evaluations_gemini20flash[\"record\"].apply(lambda x: x['question'])\n",
    "df_evaluations_gemini20flash[\"id\"] = df_evaluations_gemini20flash[\"record\"].apply(lambda x: x['id'])\n",
    "df_evaluations_gemini20flash = df_evaluations_gemini20flash.drop(columns=['record'])\n",
    "df_evaluations_gemini20flash.to_csv('../data/ground-truth-evaluation-gemini20flash.csv', index=False)\n",
    "df_evaluations_gemini20flash.head()"
   ]
  },
  {
   "cell_type": "code",
   "execution_count": 93,
   "metadata": {},
   "outputs": [
    {
     "name": "stdout",
     "output_type": "stream",
     "text": [
      "id,answer_llm,relevance,explanation,question\n",
      "177,\"The Cable Tricep Kickback exercise requires a cable machine.\n",
      "\",PARTIALLY_RELEVANT,\"The answer correctly states that the exercise requires a cable machine, which directly addresses part of the question. However, it does not offer any suggestions for modifications or alternatives if a cable machine is unavailable, making it only partially relevant to the user's inquiry.\",Can I modify the Cable Tricep Kickback exercise if I lack access to a cable machine?\n",
      "207,\"You can modify the face pull by using a resistance band attached to a high anchor.\n",
      "\",RELEVANT,The answer directly addresses the question by providing a viable alternative to using a cable machine for performing a face pull exercise.  It's concise and accurate.,How can I modify the face pull if I don't have access to a cable machine?\n",
      "38,\"The provided text does not include instructions on whether or not to keep your back flat against the backrest throughout the entire leg press movement.\n",
      "\",NON_RELEVANT,The answer is a canned response indicating that the question cannot be answered from a source that was not provided.  It does not attempt to answer the question directly.,Should I keep my back flat against the backrest throughout the entire leg press movement?\n",
      "125,\"I am sorry, but the provided context does not include modifications for the Superman exercise if you have lower back pain.\n",
      "\",PARTIALLY_RELEVANT,\"The answer is honest in stating it cannot provide modifications. However, a more helpful response would suggest seeking professional advice from a physical therapist or doctor,  or point to resources where such modifications might be found.  The current answer is a polite but ultimately unhelpful canned response.\",What modifications can I make to the Superman exercise if I have lower back pain?\n",
      "145,\"I am sorry, but the number of repetitions for the Stability Ball Pike is not specified in the context.\n"
     ]
    }
   ],
   "source": [
    "!head ../data/ground-truth-evaluation-gemini20flash.csv"
   ]
  },
  {
   "cell_type": "code",
   "execution_count": null,
   "metadata": {},
   "outputs": [],
   "source": []
  }
 ],
 "metadata": {
  "kernelspec": {
   "display_name": "venv",
   "language": "python",
   "name": "python3"
  },
  "language_info": {
   "codemirror_mode": {
    "name": "ipython",
    "version": 3
   },
   "file_extension": ".py",
   "mimetype": "text/x-python",
   "name": "python",
   "nbconvert_exporter": "python",
   "pygments_lexer": "ipython3",
   "version": "3.12.3"
  }
 },
 "nbformat": 4,
 "nbformat_minor": 2
}
